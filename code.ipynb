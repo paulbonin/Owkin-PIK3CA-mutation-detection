{
  "cells": [
    {
      "cell_type": "code",
      "execution_count": null,
      "metadata": {
        "id": "Rlvvb6k6YiCv"
      },
      "outputs": [],
      "source": [
        "from google.colab import drive\n",
        "drive.mount('/content/drive', force_remount=True)\n",
        "\n",
        "import os\n",
        "path = '/content/drive/My Drive/Owkin/Owkin/'\n",
        "os.chdir(path)"
      ]
    },
    {
      "cell_type": "code",
      "execution_count": null,
      "metadata": {
        "id": "NRDCLiO2Yc9q"
      },
      "outputs": [],
      "source": [
        "from pathlib import Path\n",
        "\n",
        "import numpy as np\n",
        "import pandas as pd\n",
        "\n",
        "import matplotlib.pyplot as plt\n",
        "\n",
        "import csv\n",
        "\n",
        "import os\n",
        "import glob\n",
        "\n",
        "import tensorflow as tf\n",
        "from tensorflow import keras\n",
        "from tensorflow.keras import layers\n",
        "\n",
        "from sklearn.model_selection import train_test_split"
      ]
    },
    {
      "cell_type": "markdown",
      "metadata": {
        "id": "OQi_ajXaYc9r"
      },
      "source": [
        "# Extract data"
      ]
    },
    {
      "cell_type": "code",
      "execution_count": null,
      "metadata": {
        "id": "97BJzCerjOKh"
      },
      "outputs": [],
      "source": [
        "train_features_dir = Path(path) / \"train_input\" / \"moco_features\"\n",
        "test_features_dir = Path(path) / \"test_input\" / \"moco_features\""
      ]
    },
    {
      "cell_type": "code",
      "execution_count": null,
      "metadata": {
        "id": "suYYzgBzjC6b",
        "colab": {
          "base_uri": "https://localhost:8080/"
        },
        "outputId": "99cb5bcb-83a2-4cf2-fd7d-d77c802e0924"
      },
      "outputs": [
        {
          "output_type": "stream",
          "name": "stdout",
          "text": [
            "(344000, 2048)\n"
          ]
        }
      ],
      "source": [
        "npy_files = glob.glob(os.path.join(train_features_dir, '*.npy'))\n",
        "\n",
        "X = []\n",
        "\n",
        "for npy_file in npy_files:\n",
        "    loaded_data = np.load(npy_file)\n",
        "    x.append(loaded_data)\n",
        "\n",
        "X = np.concatenate(X, axis=0)\n",
        "\n",
        "# Remove metadata to only keep data\n",
        "X = X[:,3:]\n",
        "\n",
        "print(\"Data shape is: \", X.shape)"
      ]
    },
    {
      "cell_type": "code",
      "execution_count": null,
      "metadata": {
        "id": "P2Dww26c7ChY",
        "colab": {
          "base_uri": "https://localhost:8080/"
        },
        "outputId": "0416a361-5549-431e-8e16-b62f2be1c317"
      },
      "outputs": [
        {
          "output_type": "stream",
          "name": "stdout",
          "text": [
            "(344000,)\n"
          ]
        }
      ],
      "source": [
        "y = pd.read_csv(Path(path)  / \"train_output.csv\")\n",
        "\n",
        "y = np.array(y)\n",
        "y = y[:,1]\n",
        "\n",
        "# We replicate the label of each image to the 1000 tiles extracted from the image\n",
        "y = [value for value in y for _ in range(1000)]\n",
        "y = np.array(y)\n",
        "\n",
        "print(\"Label vector shape is: \", y.shape)"
      ]
    },
    {
      "cell_type": "markdown",
      "source": [
        "# Normalize data"
      ],
      "metadata": {
        "id": "zdlIfODjDwdT"
      }
    },
    {
      "cell_type": "code",
      "source": [
        "X = (X - np.mean(X)) / np.var(X)"
      ],
      "metadata": {
        "id": "fx1-UbmrDvT2"
      },
      "execution_count": null,
      "outputs": []
    },
    {
      "cell_type": "markdown",
      "source": [
        "# Split between train and test data for training"
      ],
      "metadata": {
        "id": "v5BlWH2AEXoY"
      }
    },
    {
      "cell_type": "code",
      "execution_count": null,
      "metadata": {
        "id": "Pmh66ZB3yo01"
      },
      "outputs": [],
      "source": [
        "X_train, X_test, y_train, y_test = train_test_split(X, y, test_size=0.2, random_state=42)"
      ]
    },
    {
      "cell_type": "code",
      "execution_count": null,
      "metadata": {
        "id": "3SrzoIH1tM5Y"
      },
      "outputs": [],
      "source": [
        "# Shuffle X_train\n",
        "\n",
        "indices = np.arange(len(x_train))\n",
        "\n",
        "np.random.shuffle(indices)\n",
        "\n",
        "X_train = X_train[indices]\n",
        "y_train = y_train[indices]"
      ]
    },
    {
      "cell_type": "markdown",
      "source": [
        "# Create the model"
      ],
      "metadata": {
        "id": "OUDyFMLZOjPX"
      }
    },
    {
      "cell_type": "code",
      "execution_count": null,
      "metadata": {
        "colab": {
          "base_uri": "https://localhost:8080/"
        },
        "id": "3orYtuvW-OOa",
        "outputId": "bcc1ec40-43ad-4494-9773-5cebebe23fb9"
      },
      "outputs": [
        {
          "output_type": "stream",
          "name": "stdout",
          "text": [
            "Model: \"sequential\"\n",
            "_________________________________________________________________\n",
            " Layer (type)                Output Shape              Param #   \n",
            "=================================================================\n",
            " reshape (Reshape)           (None, 2048, 1)           0         \n",
            "                                                                 \n",
            " conv1d (Conv1D)             (None, 256, 32)           288       \n",
            "                                                                 \n",
            " conv1d_1 (Conv1D)           (None, 32, 32)            8224      \n",
            "                                                                 \n",
            " flatten (Flatten)           (None, 1024)              0         \n",
            "                                                                 \n",
            " dense (Dense)               (None, 1)                 1025      \n",
            "                                                                 \n",
            "=================================================================\n",
            "Total params: 9537 (37.25 KB)\n",
            "Trainable params: 9537 (37.25 KB)\n",
            "Non-trainable params: 0 (0.00 Byte)\n",
            "_________________________________________________________________\n"
          ]
        }
      ],
      "source": [
        "model = keras.Sequential()\n",
        "\n",
        "model.add(layers.Reshape((2048, 1), input_shape=(2048,)))\n",
        "model.add(layers.Conv1D(32, 8, activation='relu', strides=8))\n",
        "model.add(layers.Conv1D(32, 8, activation='relu', strides=8))\n",
        "model.add(layers.Flatten())\n",
        "model.add(layers.Dense(1, activation='sigmoid'))\n",
        "\n",
        "model.compile(optimizer='adam', loss='binary_crossentropy', metrics=['accuracy'])\n",
        "\n",
        "model.summary()"
      ]
    },
    {
      "cell_type": "markdown",
      "source": [
        "# Train model"
      ],
      "metadata": {
        "id": "mUmTd058O1lS"
      }
    },
    {
      "cell_type": "code",
      "execution_count": null,
      "metadata": {
        "colab": {
          "base_uri": "https://localhost:8080/"
        },
        "id": "B-xjNFHnwiuh",
        "outputId": "005b2707-8597-4e73-811d-f7cdc0566cc5"
      },
      "outputs": [
        {
          "output_type": "stream",
          "name": "stdout",
          "text": [
            "Epoch 1/4\n",
            "Epoch 2/4\n",
            "Epoch 3/4\n",
            "Epoch 4/4\n"
          ]
        }
      ],
      "source": [
        "# Here, we explicitely split the dataset into batches for memory reasons\n",
        "\n",
        "batch_size = 64\n",
        "num_epochs = 4\n",
        "\n",
        "metrics = []\n",
        "\n",
        "# Loop over epochs\n",
        "for epoch in range(num_epochs):\n",
        "    print(f\"Epoch {epoch+1}/{num_epochs}\")\n",
        "    epoch_metrics = []\n",
        "\n",
        "    # Loop over batches\n",
        "    for i in range(0, len(X_train), batch_size):\n",
        "        X_batch = X_train[i:i+batch_size]\n",
        "        y_batch = y_train[i:i+batch_size]\n",
        "\n",
        "        # Train the model on the current batch\n",
        "        batch_metrics = model.train_on_batch(X_batch, y_batch)\n",
        "        epoch_metrics.append(batch_metrics)\n",
        "\n",
        "    metrics.append(epoch_metrics)"
      ]
    },
    {
      "cell_type": "code",
      "source": [
        "metrics = np.array(metrics)\n",
        "metrics = metrics.reshape(-1, 2)"
      ],
      "metadata": {
        "id": "blMWxGWxBnUM"
      },
      "execution_count": null,
      "outputs": []
    },
    {
      "cell_type": "code",
      "source": [
        "window_size = 512\n",
        "\n",
        "sliding_average = np.convolve(metrics[:,0], np.ones(window_size)/window_size, mode='valid')\n",
        "\n",
        "plt.plot(metrics[:,0], label='Training loss', color='lightgray')\n",
        "plt.plot(np.arange(len(sliding_average)), sliding_average, label=f'Sliding average (window size {window_size})', color='blue')\n",
        "plt.xlabel('Iteration')\n",
        "plt.ylabel('Value')\n",
        "plt.legend()\n",
        "plt.show()\n"
      ],
      "metadata": {
        "colab": {
          "base_uri": "https://localhost:8080/",
          "height": 449
        },
        "id": "uNwUPb1qcHOp",
        "outputId": "ba0d26fe-d7c4-41ea-a3bb-5c8c51837d9d"
      },
      "execution_count": null,
      "outputs": [
        {
          "output_type": "display_data",
          "data": {
            "text/plain": [
              "<Figure size 640x480 with 1 Axes>"
            ],
            "image/png": "[encoded data removed]"
          },
          "metadata": {}
        }
      ]
    },
    {
      "cell_type": "code",
      "source": [
        "sliding_average = np.convolve(metrics[:,1], np.ones(window_size)/window_size, mode='valid')\n",
        "\n",
        "plt.plot(metrics[:,1], label='Training accuracy', color='lightgray')\n",
        "plt.plot(np.arange(len(sliding_average)), sliding_average, label=f'Sliding Average (Window Size {window_size})', color='blue')\n",
        "plt.xlabel('Iteration')\n",
        "plt.ylabel('Value')\n",
        "plt.legend()\n",
        "plt.show()\n"
      ],
      "metadata": {
        "colab": {
          "base_uri": "https://localhost:8080/",
          "height": 449
        },
        "id": "fWwvKXa1dARd",
        "outputId": "5bb074f2-a0d5-4c09-f34e-b5d2ca01ee97"
      },
      "execution_count": null,
      "outputs": [
        {
          "output_type": "display_data",
          "data": {
            "text/plain": [
              "<Figure size 640x480 with 1 Axes>"
            ],
            "image/png": "[encoded data removed]"
          },
          "metadata": {}
        }
      ]
    },
    {
      "cell_type": "markdown",
      "source": [
        "# Perform inference on the test set created from Owkin's training set (with ground truth)"
      ],
      "metadata": {
        "id": "cc5uM7rUSioA"
      }
    },
    {
      "cell_type": "code",
      "source": [
        "# Inference on the test set\n",
        "\n",
        "predictions = model.predict(X_test)"
      ],
      "metadata": {
        "colab": {
          "base_uri": "https://localhost:8080/"
        },
        "id": "k4WrbHFydqvr",
        "outputId": "9908c601-d6fd-440e-f08d-ba269252f5af"
      },
      "execution_count": null,
      "outputs": [
        {
          "output_type": "stream",
          "name": "stdout",
          "text": [
            "2150/2150 [==============================] - 4s 2ms/step\n"
          ]
        }
      ]
    },
    {
      "cell_type": "code",
      "source": [
        "# Turn probabilities into binary classes\n",
        "\n",
        "predictions = (predictions > 0.5)*1"
      ],
      "metadata": {
        "id": "xfMLskJ1euzq"
      },
      "execution_count": null,
      "outputs": []
    },
    {
      "cell_type": "code",
      "source": [
        "# Compute accuracy\n",
        "\n",
        "np.sum((predictions.T == y_test)*1)/len(predictions)"
      ],
      "metadata": {
        "colab": {
          "base_uri": "https://localhost:8080/"
        },
        "id": "VthU6k4HrZzF",
        "outputId": "36aa6272-001b-4c8d-c83b-02ca807c1947"
      },
      "execution_count": null,
      "outputs": [
        {
          "output_type": "execute_result",
          "data": {
            "text/plain": [
              "0.7613953488372093"
            ]
          },
          "metadata": {},
          "execution_count": 28
        }
      ]
    },
    {
      "cell_type": "markdown",
      "source": [
        "# Perform inference on Owkin's test set"
      ],
      "metadata": {
        "id": "CBKUJ4f0TyP3"
      }
    },
    {
      "cell_type": "code",
      "source": [
        "npy_files = glob.glob(os.path.join(test_features_dir, '*.npy'))\n",
        "\n",
        "X_test_owkin = []\n",
        "\n",
        "for npy_file in npy_files:\n",
        "    loaded_data = np.load(npy_file)\n",
        "    X_test_owkin.append(loaded_data)\n",
        "\n",
        "X_test_owkin = np.concatenate(X_test_owkin, axis=0)\n",
        "\n",
        "# Remove metadata\n",
        "X_test_owkin = X_test_owkin[:,3:]"
      ],
      "metadata": {
        "id": "5OsJsxVOs4XZ"
      },
      "execution_count": null,
      "outputs": []
    },
    {
      "cell_type": "code",
      "source": [
        "print(\"Data shape is: \", X_test_owkin.shape)"
      ],
      "metadata": {
        "colab": {
          "base_uri": "https://localhost:8080/"
        },
        "id": "YmtHUUTR0Sb-",
        "outputId": "e3ea006a-f2fa-4456-c81d-dcdc27c123a5"
      },
      "execution_count": null,
      "outputs": [
        {
          "output_type": "stream",
          "name": "stdout",
          "text": [
            "(149000, 2048)\n"
          ]
        }
      ]
    },
    {
      "cell_type": "code",
      "source": [
        "# Normalize values\n",
        "\n",
        "X_test_owkin = (X_test_owkin - np.mean(X_test_owkin)) / np.var(C_test_owkin)"
      ],
      "metadata": {
        "id": "Qxly9TsBtLKt"
      },
      "execution_count": null,
      "outputs": []
    },
    {
      "cell_type": "code",
      "source": [
        "# Inference on the data challenge test set\n",
        "\n",
        "predictions_owkin = model.predict(X_test_owkin)"
      ],
      "metadata": {
        "colab": {
          "base_uri": "https://localhost:8080/"
        },
        "id": "rhcckpegtgeP",
        "outputId": "73f66b90-83cc-478b-923d-44d9cfc26a3e"
      },
      "execution_count": null,
      "outputs": [
        {
          "output_type": "stream",
          "name": "stdout",
          "text": [
            "4657/4657 [==============================] - 10s 2ms/step\n"
          ]
        }
      ]
    },
    {
      "cell_type": "code",
      "source": [
        "pred_for_csv = []\n",
        "\n",
        "# Convert output for each tile into output for each image\n",
        "for i in range(0, len(predictions_owkin), 1000):\n",
        "    pred_for_csv.append(np.mean(predictions_owkin[i:i+1000]))"
      ],
      "metadata": {
        "id": "svD8MHJTt2fU"
      },
      "execution_count": null,
      "outputs": []
    },
    {
      "cell_type": "code",
      "source": [
        "final_csv = []\n",
        "\n",
        "file_list = os.listdir(test_features_dir)\n",
        "\n",
        "for i in range(len(pred_for_csv)):\n",
        "  final_csv.append((file_list[i], pred_for_csv[i]))\n",
        "\n",
        "final_csv = np.array(final_csv)"
      ],
      "metadata": {
        "id": "fBUbIKYzzEWi"
      },
      "execution_count": null,
      "outputs": []
    },
    {
      "cell_type": "code",
      "source": [
        "final_csv"
      ],
      "metadata": {
        "colab": {
          "base_uri": "https://localhost:8080/"
        },
        "id": "9A0nne7r2AZk",
        "outputId": "3efde3d6-2092-4276-b8e0-45b1bfd137af"
      },
      "execution_count": null,
      "outputs": [
        {
          "output_type": "execute_result",
          "data": {
            "text/plain": [
              "array([['ID_004.npy', '0.65769273'],\n",
              "       ['ID_003.npy', '0.33805865'],\n",
              "       ['ID_008.npy', '0.39062715'],\n",
              "       ['ID_010.npy', '0.27550116'],\n",
              "       ['ID_009.npy', '0.42117366'],\n",
              "       ['ID_011.npy', '0.2397976'],\n",
              "       ['ID_017.npy', '0.37517065'],\n",
              "       ['ID_015.npy', '0.23921302'],\n",
              "       ['ID_022.npy', '0.46188635'],\n",
              "       ['ID_027.npy', '0.22477105'],\n",
              "       ['ID_034.npy', '0.40012005'],\n",
              "       ['ID_029.npy', '0.47626448'],\n",
              "       ['ID_030.npy', '0.21927398'],\n",
              "       ['ID_036.npy', '0.31245893'],\n",
              "       ['ID_038.npy', '0.49323955'],\n",
              "       ['ID_043.npy', '0.20305447'],\n",
              "       ['ID_044.npy', '0.30919215'],\n",
              "       ['ID_047.npy', '0.34049127'],\n",
              "       ['ID_051.npy', '0.26524112'],\n",
              "       ['ID_065.npy', '0.36527276'],\n",
              "       ['ID_060.npy', '0.408022'],\n",
              "       ['ID_071.npy', '0.21754919'],\n",
              "       ['ID_070.npy', '0.35137007'],\n",
              "       ['ID_079.npy', '0.32034934'],\n",
              "       ['ID_078.npy', '0.2512039'],\n",
              "       ['ID_085.npy', '0.38206965'],\n",
              "       ['ID_105.npy', '0.13796338'],\n",
              "       ['ID_103.npy', '0.39934742'],\n",
              "       ['ID_104.npy', '0.23140448'],\n",
              "       ['ID_107.npy', '0.34533113'],\n",
              "       ['ID_119.npy', '0.4037149'],\n",
              "       ['ID_121.npy', '0.21549359'],\n",
              "       ['ID_125.npy', '0.28450304'],\n",
              "       ['ID_127.npy', '0.31310156'],\n",
              "       ['ID_133.npy', '0.3172492'],\n",
              "       ['ID_140.npy', '0.22776389'],\n",
              "       ['ID_135.npy', '0.43186882'],\n",
              "       ['ID_136.npy', '0.23426828'],\n",
              "       ['ID_137.npy', '0.14273706'],\n",
              "       ['ID_142.npy', '0.2561942'],\n",
              "       ['ID_143.npy', '0.49611488'],\n",
              "       ['ID_144.npy', '0.5515351'],\n",
              "       ['ID_149.npy', '0.32925767'],\n",
              "       ['ID_152.npy', '0.6087209'],\n",
              "       ['ID_159.npy', '0.27621788'],\n",
              "       ['ID_157.npy', '0.34781164'],\n",
              "       ['ID_158.npy', '0.25258425'],\n",
              "       ['ID_162.npy', '0.524225'],\n",
              "       ['ID_169.npy', '0.2546587'],\n",
              "       ['ID_177.npy', '0.24091113'],\n",
              "       ['ID_175.npy', '0.3017998'],\n",
              "       ['ID_181.npy', '0.53123534'],\n",
              "       ['ID_183.npy', '0.4537675'],\n",
              "       ['ID_189.npy', '0.31556568'],\n",
              "       ['ID_198.npy', '0.5453231'],\n",
              "       ['ID_195.npy', '0.2507306'],\n",
              "       ['ID_194.npy', '0.48593658'],\n",
              "       ['ID_199.npy', '0.33873528'],\n",
              "       ['ID_200.npy', '0.30301848'],\n",
              "       ['ID_210.npy', '0.4433947'],\n",
              "       ['ID_208.npy', '0.26577184'],\n",
              "       ['ID_207.npy', '0.21142676'],\n",
              "       ['ID_212.npy', '0.2093474'],\n",
              "       ['ID_214.npy', '0.2469959'],\n",
              "       ['ID_216.npy', '0.29268274'],\n",
              "       ['ID_219.npy', '0.22110063'],\n",
              "       ['ID_222.npy', '0.44589937'],\n",
              "       ['ID_224.npy', '0.24792813'],\n",
              "       ['ID_223.npy', '0.299861'],\n",
              "       ['ID_225.npy', '0.40746003'],\n",
              "       ['ID_232.npy', '0.2747611'],\n",
              "       ['ID_234.npy', '0.51050717'],\n",
              "       ['ID_241.npy', '0.44063383'],\n",
              "       ['ID_239.npy', '0.21602899'],\n",
              "       ['ID_246.npy', '0.2979182'],\n",
              "       ['ID_247.npy', '0.24150302'],\n",
              "       ['ID_255.npy', '0.44860318'],\n",
              "       ['ID_250.npy', '0.22855309'],\n",
              "       ['ID_262.npy', '0.35504818'],\n",
              "       ['ID_261.npy', '0.24726962'],\n",
              "       ['ID_267.npy', '0.29311073'],\n",
              "       ['ID_273.npy', '0.48364738'],\n",
              "       ['ID_281.npy', '0.2630798'],\n",
              "       ['ID_280.npy', '0.53216696'],\n",
              "       ['ID_283.npy', '0.4600113'],\n",
              "       ['ID_284.npy', '0.4507758'],\n",
              "       ['ID_285.npy', '0.47472414'],\n",
              "       ['ID_292.npy', '0.332192'],\n",
              "       ['ID_291.npy', '0.17876612'],\n",
              "       ['ID_294.npy', '0.23907252'],\n",
              "       ['ID_297.npy', '0.3987099'],\n",
              "       ['ID_299.npy', '0.2758167'],\n",
              "       ['ID_303.npy', '0.18263696'],\n",
              "       ['ID_302.npy', '0.217178'],\n",
              "       ['ID_300.npy', '0.5190193'],\n",
              "       ['ID_311.npy', '0.28163823'],\n",
              "       ['ID_315.npy', '0.2717662'],\n",
              "       ['ID_319.npy', '0.41555995'],\n",
              "       ['ID_322.npy', '0.3016223'],\n",
              "       ['ID_330.npy', '0.34149635'],\n",
              "       ['ID_333.npy', '0.3077937'],\n",
              "       ['ID_332.npy', '0.22526228'],\n",
              "       ['ID_339.npy', '0.31626275'],\n",
              "       ['ID_342.npy', '0.37980145'],\n",
              "       ['ID_338.npy', '0.31526738'],\n",
              "       ['ID_350.npy', '0.2904468'],\n",
              "       ['ID_345.npy', '0.3121861'],\n",
              "       ['ID_357.npy', '0.27207702'],\n",
              "       ['ID_354.npy', '0.310477'],\n",
              "       ['ID_360.npy', '0.4582124'],\n",
              "       ['ID_364.npy', '0.28737634'],\n",
              "       ['ID_370.npy', '0.29836002'],\n",
              "       ['ID_378.npy', '0.17371601'],\n",
              "       ['ID_374.npy', '0.2969668'],\n",
              "       ['ID_380.npy', '0.29873902'],\n",
              "       ['ID_381.npy', '0.3184003'],\n",
              "       ['ID_376.npy', '0.1259775'],\n",
              "       ['ID_384.npy', '0.24616241'],\n",
              "       ['ID_387.npy', '0.32365167'],\n",
              "       ['ID_385.npy', '0.4253911'],\n",
              "       ['ID_388.npy', '0.41390222'],\n",
              "       ['ID_382.npy', '0.18108252'],\n",
              "       ['ID_386.npy', '0.1258394'],\n",
              "       ['ID_393.npy', '0.29512239'],\n",
              "       ['ID_394.npy', '0.34675673'],\n",
              "       ['ID_397.npy', '0.36669672'],\n",
              "       ['ID_395.npy', '0.26292786'],\n",
              "       ['ID_405.npy', '0.31029776'],\n",
              "       ['ID_413.npy', '0.5032716'],\n",
              "       ['ID_418.npy', '0.36324587'],\n",
              "       ['ID_417.npy', '0.38103646'],\n",
              "       ['ID_424.npy', '0.22571509'],\n",
              "       ['ID_429.npy', '0.3509809'],\n",
              "       ['ID_428.npy', '0.25338355'],\n",
              "       ['ID_438.npy', '0.6153226'],\n",
              "       ['ID_443.npy', '0.27680102'],\n",
              "       ['ID_449.npy', '0.21504872'],\n",
              "       ['ID_445.npy', '0.3176844'],\n",
              "       ['ID_447.npy', '0.39024824'],\n",
              "       ['ID_453.npy', '0.45808277'],\n",
              "       ['ID_457.npy', '0.32265726'],\n",
              "       ['ID_466.npy', '0.44826338'],\n",
              "       ['ID_473.npy', '0.45702207'],\n",
              "       ['ID_471.npy', '0.27508172'],\n",
              "       ['ID_482.npy', '0.2706067'],\n",
              "       ['ID_487.npy', '0.2796715'],\n",
              "       ['ID_488.npy', '0.39268902'],\n",
              "       ['ID_492.npy', '0.35542545'],\n",
              "       ['ID_493.npy', '0.34722492']], dtype='<U32')"
            ]
          },
          "metadata": {},
          "execution_count": 65
        }
      ]
    },
    {
      "cell_type": "code",
      "source": [
        "final_csv_sorted = final_csv[final_csv[:, 0].argsort()]"
      ],
      "metadata": {
        "id": "gS8AfEU5zefd"
      },
      "execution_count": null,
      "outputs": []
    },
    {
      "cell_type": "code",
      "source": [
        "final_csv_sorted"
      ],
      "metadata": {
        "colab": {
          "base_uri": "https://localhost:8080/"
        },
        "id": "KtcfhkVF1803",
        "outputId": "3dfa692d-9806-47bb-88cf-0b1696b3b297"
      },
      "execution_count": null,
      "outputs": [
        {
          "output_type": "execute_result",
          "data": {
            "text/plain": [
              "array([['ID_003.npy', '0.33805865'],\n",
              "       ['ID_004.npy', '0.65769273'],\n",
              "       ['ID_008.npy', '0.39062715'],\n",
              "       ['ID_009.npy', '0.42117366'],\n",
              "       ['ID_010.npy', '0.27550116'],\n",
              "       ['ID_011.npy', '0.2397976'],\n",
              "       ['ID_015.npy', '0.23921302'],\n",
              "       ['ID_017.npy', '0.37517065'],\n",
              "       ['ID_022.npy', '0.46188635'],\n",
              "       ['ID_027.npy', '0.22477105'],\n",
              "       ['ID_029.npy', '0.47626448'],\n",
              "       ['ID_030.npy', '0.21927398'],\n",
              "       ['ID_034.npy', '0.40012005'],\n",
              "       ['ID_036.npy', '0.31245893'],\n",
              "       ['ID_038.npy', '0.49323955'],\n",
              "       ['ID_043.npy', '0.20305447'],\n",
              "       ['ID_044.npy', '0.30919215'],\n",
              "       ['ID_047.npy', '0.34049127'],\n",
              "       ['ID_051.npy', '0.26524112'],\n",
              "       ['ID_060.npy', '0.408022'],\n",
              "       ['ID_065.npy', '0.36527276'],\n",
              "       ['ID_070.npy', '0.35137007'],\n",
              "       ['ID_071.npy', '0.21754919'],\n",
              "       ['ID_078.npy', '0.2512039'],\n",
              "       ['ID_079.npy', '0.32034934'],\n",
              "       ['ID_085.npy', '0.38206965'],\n",
              "       ['ID_103.npy', '0.39934742'],\n",
              "       ['ID_104.npy', '0.23140448'],\n",
              "       ['ID_105.npy', '0.13796338'],\n",
              "       ['ID_107.npy', '0.34533113'],\n",
              "       ['ID_119.npy', '0.4037149'],\n",
              "       ['ID_121.npy', '0.21549359'],\n",
              "       ['ID_125.npy', '0.28450304'],\n",
              "       ['ID_127.npy', '0.31310156'],\n",
              "       ['ID_133.npy', '0.3172492'],\n",
              "       ['ID_135.npy', '0.43186882'],\n",
              "       ['ID_136.npy', '0.23426828'],\n",
              "       ['ID_137.npy', '0.14273706'],\n",
              "       ['ID_140.npy', '0.22776389'],\n",
              "       ['ID_142.npy', '0.2561942'],\n",
              "       ['ID_143.npy', '0.49611488'],\n",
              "       ['ID_144.npy', '0.5515351'],\n",
              "       ['ID_149.npy', '0.32925767'],\n",
              "       ['ID_152.npy', '0.6087209'],\n",
              "       ['ID_157.npy', '0.34781164'],\n",
              "       ['ID_158.npy', '0.25258425'],\n",
              "       ['ID_159.npy', '0.27621788'],\n",
              "       ['ID_162.npy', '0.524225'],\n",
              "       ['ID_169.npy', '0.2546587'],\n",
              "       ['ID_175.npy', '0.3017998'],\n",
              "       ['ID_177.npy', '0.24091113'],\n",
              "       ['ID_181.npy', '0.53123534'],\n",
              "       ['ID_183.npy', '0.4537675'],\n",
              "       ['ID_189.npy', '0.31556568'],\n",
              "       ['ID_194.npy', '0.48593658'],\n",
              "       ['ID_195.npy', '0.2507306'],\n",
              "       ['ID_198.npy', '0.5453231'],\n",
              "       ['ID_199.npy', '0.33873528'],\n",
              "       ['ID_200.npy', '0.30301848'],\n",
              "       ['ID_207.npy', '0.21142676'],\n",
              "       ['ID_208.npy', '0.26577184'],\n",
              "       ['ID_210.npy', '0.4433947'],\n",
              "       ['ID_212.npy', '0.2093474'],\n",
              "       ['ID_214.npy', '0.2469959'],\n",
              "       ['ID_216.npy', '0.29268274'],\n",
              "       ['ID_219.npy', '0.22110063'],\n",
              "       ['ID_222.npy', '0.44589937'],\n",
              "       ['ID_223.npy', '0.299861'],\n",
              "       ['ID_224.npy', '0.24792813'],\n",
              "       ['ID_225.npy', '0.40746003'],\n",
              "       ['ID_232.npy', '0.2747611'],\n",
              "       ['ID_234.npy', '0.51050717'],\n",
              "       ['ID_239.npy', '0.21602899'],\n",
              "       ['ID_241.npy', '0.44063383'],\n",
              "       ['ID_246.npy', '0.2979182'],\n",
              "       ['ID_247.npy', '0.24150302'],\n",
              "       ['ID_250.npy', '0.22855309'],\n",
              "       ['ID_255.npy', '0.44860318'],\n",
              "       ['ID_261.npy', '0.24726962'],\n",
              "       ['ID_262.npy', '0.35504818'],\n",
              "       ['ID_267.npy', '0.29311073'],\n",
              "       ['ID_273.npy', '0.48364738'],\n",
              "       ['ID_280.npy', '0.53216696'],\n",
              "       ['ID_281.npy', '0.2630798'],\n",
              "       ['ID_283.npy', '0.4600113'],\n",
              "       ['ID_284.npy', '0.4507758'],\n",
              "       ['ID_285.npy', '0.47472414'],\n",
              "       ['ID_291.npy', '0.17876612'],\n",
              "       ['ID_292.npy', '0.332192'],\n",
              "       ['ID_294.npy', '0.23907252'],\n",
              "       ['ID_297.npy', '0.3987099'],\n",
              "       ['ID_299.npy', '0.2758167'],\n",
              "       ['ID_300.npy', '0.5190193'],\n",
              "       ['ID_302.npy', '0.217178'],\n",
              "       ['ID_303.npy', '0.18263696'],\n",
              "       ['ID_311.npy', '0.28163823'],\n",
              "       ['ID_315.npy', '0.2717662'],\n",
              "       ['ID_319.npy', '0.41555995'],\n",
              "       ['ID_322.npy', '0.3016223'],\n",
              "       ['ID_330.npy', '0.34149635'],\n",
              "       ['ID_332.npy', '0.22526228'],\n",
              "       ['ID_333.npy', '0.3077937'],\n",
              "       ['ID_338.npy', '0.31526738'],\n",
              "       ['ID_339.npy', '0.31626275'],\n",
              "       ['ID_342.npy', '0.37980145'],\n",
              "       ['ID_345.npy', '0.3121861'],\n",
              "       ['ID_350.npy', '0.2904468'],\n",
              "       ['ID_354.npy', '0.310477'],\n",
              "       ['ID_357.npy', '0.27207702'],\n",
              "       ['ID_360.npy', '0.4582124'],\n",
              "       ['ID_364.npy', '0.28737634'],\n",
              "       ['ID_370.npy', '0.29836002'],\n",
              "       ['ID_374.npy', '0.2969668'],\n",
              "       ['ID_376.npy', '0.1259775'],\n",
              "       ['ID_378.npy', '0.17371601'],\n",
              "       ['ID_380.npy', '0.29873902'],\n",
              "       ['ID_381.npy', '0.3184003'],\n",
              "       ['ID_382.npy', '0.18108252'],\n",
              "       ['ID_384.npy', '0.24616241'],\n",
              "       ['ID_385.npy', '0.4253911'],\n",
              "       ['ID_386.npy', '0.1258394'],\n",
              "       ['ID_387.npy', '0.32365167'],\n",
              "       ['ID_388.npy', '0.41390222'],\n",
              "       ['ID_393.npy', '0.29512239'],\n",
              "       ['ID_394.npy', '0.34675673'],\n",
              "       ['ID_395.npy', '0.26292786'],\n",
              "       ['ID_397.npy', '0.36669672'],\n",
              "       ['ID_405.npy', '0.31029776'],\n",
              "       ['ID_413.npy', '0.5032716'],\n",
              "       ['ID_417.npy', '0.38103646'],\n",
              "       ['ID_418.npy', '0.36324587'],\n",
              "       ['ID_424.npy', '0.22571509'],\n",
              "       ['ID_428.npy', '0.25338355'],\n",
              "       ['ID_429.npy', '0.3509809'],\n",
              "       ['ID_438.npy', '0.6153226'],\n",
              "       ['ID_443.npy', '0.27680102'],\n",
              "       ['ID_445.npy', '0.3176844'],\n",
              "       ['ID_447.npy', '0.39024824'],\n",
              "       ['ID_449.npy', '0.21504872'],\n",
              "       ['ID_453.npy', '0.45808277'],\n",
              "       ['ID_457.npy', '0.32265726'],\n",
              "       ['ID_466.npy', '0.44826338'],\n",
              "       ['ID_471.npy', '0.27508172'],\n",
              "       ['ID_473.npy', '0.45702207'],\n",
              "       ['ID_482.npy', '0.2706067'],\n",
              "       ['ID_487.npy', '0.2796715'],\n",
              "       ['ID_488.npy', '0.39268902'],\n",
              "       ['ID_492.npy', '0.35542545'],\n",
              "       ['ID_493.npy', '0.34722492']], dtype='<U32')"
            ]
          },
          "metadata": {},
          "execution_count": 64
        }
      ]
    },
    {
      "cell_type": "code",
      "source": [
        "csv_file = 'y_test_paul.csv'\n",
        "\n",
        "with open(csv_file, 'w', newline='') as file:\n",
        "    writer = csv.writer(file)\n",
        "    writer.writerow(['Sample ID', 'Target'])\n",
        "    writer.writerows(final_csv_sorted)\n",
        "\n",
        "print(f'final_csv has been exported to {csv_file}.')"
      ],
      "metadata": {
        "colab": {
          "base_uri": "https://localhost:8080/"
        },
        "id": "9HpQYQxzzvCp",
        "outputId": "6fd1fbf8-b00c-4cde-e360-b8ea41f17614"
      },
      "execution_count": null,
      "outputs": [
        {
          "output_type": "stream",
          "name": "stdout",
          "text": [
            "final_csv has been exported to y_test_paul.csv.\n"
          ]
        }
      ]
    }
  ],
  "metadata": {
    "accelerator": "GPU",
    "colab": {
      "provenance": [],
      "gpuType": "T4"
    },
    "kernelspec": {
      "display_name": "Python 3",
      "name": "python3"
    },
    "language_info": {
      "codemirror_mode": {
        "name": "ipython",
        "version": 3
      },
      "file_extension": ".py",
      "mimetype": "text/x-python",
      "name": "python",
      "nbconvert_exporter": "python",
      "pygments_lexer": "ipython3",
      "version": "3.8.10"
    },
    "latex_envs": {
      "LaTeX_envs_menu_present": true,
      "autoclose": false,
      "autocomplete": true,
      "bibliofile": "biblio.bib",
      "cite_by": "apalike",
      "current_citInitial": 1,
      "eqLabelWithNumbers": true,
      "eqNumInitial": 1,
      "hotkeys": {
        "equation": "Ctrl-E",
        "itemize": "Ctrl-I"
      },
      "labels_anchors": false,
      "latex_user_defs": false,
      "report_style_numbering": false,
      "user_envs_cfg": false
    },
    "toc": {
      "base_numbering": 1,
      "nav_menu": {},
      "number_sections": false,
      "sideBar": true,
      "skip_h1_title": false,
      "title_cell": "Table of Contents",
      "title_sidebar": "Contents",
      "toc_cell": false,
      "toc_position": {},
      "toc_section_display": true,
      "toc_window_display": false
    },
    "vscode": {
      "interpreter": {
        "hash": "7a94448db244ef66a46905fab890aa1fba47fe15402067e31f6061b9147bcc96"
      }
    }
  },
  "nbformat": 4,
  "nbformat_minor": 0
}
